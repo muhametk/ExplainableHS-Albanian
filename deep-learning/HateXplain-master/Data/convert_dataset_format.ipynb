{
 "cells": [
  {
   "cell_type": "code",
   "execution_count": 6,
   "metadata": {},
   "outputs": [],
   "source": [
    "import pandas as pd\n",
    "import json"
   ]
  },
  {
   "cell_type": "code",
   "execution_count": 4,
   "metadata": {},
   "outputs": [],
   "source": [
    "shaj_dataset = pd.read_csv('dataset_final_version_29_8.csv')"
   ]
  },
  {
   "cell_type": "code",
   "execution_count": 5,
   "metadata": {},
   "outputs": [
    {
     "data": {
      "text/html": [
       "<div>\n",
       "<style scoped>\n",
       "    .dataframe tbody tr th:only-of-type {\n",
       "        vertical-align: middle;\n",
       "    }\n",
       "\n",
       "    .dataframe tbody tr th {\n",
       "        vertical-align: top;\n",
       "    }\n",
       "\n",
       "    .dataframe thead th {\n",
       "        text-align: right;\n",
       "    }\n",
       "</style>\n",
       "<table border=\"1\" class=\"dataframe\">\n",
       "  <thead>\n",
       "    <tr style=\"text-align: right;\">\n",
       "      <th></th>\n",
       "      <th>id</th>\n",
       "      <th>text</th>\n",
       "      <th>subtask_a</th>\n",
       "      <th>subtask_b</th>\n",
       "      <th>subtask_c</th>\n",
       "      <th>rationales_1</th>\n",
       "      <th>rationales_2</th>\n",
       "      <th>rationales_3</th>\n",
       "    </tr>\n",
       "  </thead>\n",
       "  <tbody>\n",
       "    <tr>\n",
       "      <th>0</th>\n",
       "      <td>30</td>\n",
       "      <td>Kungull o popull kungull</td>\n",
       "      <td>1</td>\n",
       "      <td>0</td>\n",
       "      <td>1</td>\n",
       "      <td>1;0;0;0</td>\n",
       "      <td>1;0;0;1</td>\n",
       "      <td>1;0;0;1</td>\n",
       "    </tr>\n",
       "    <tr>\n",
       "      <th>1</th>\n",
       "      <td>32</td>\n",
       "      <td>@taku_begaj  ca esht ky vlla 😅😅😅 mua m duket k...</td>\n",
       "      <td>1</td>\n",
       "      <td>0</td>\n",
       "      <td>1</td>\n",
       "      <td>0;0;0;0;0;0;0;0;0;0;1;1;0</td>\n",
       "      <td>0;0;0;0;0;0;0;0;0;0;1;1;0</td>\n",
       "      <td>0;0;0;0;0;0;0;0;0;0;1;0;0</td>\n",
       "    </tr>\n",
       "    <tr>\n",
       "      <th>2</th>\n",
       "      <td>47</td>\n",
       "      <td>Tope me lesh.</td>\n",
       "      <td>1</td>\n",
       "      <td>1</td>\n",
       "      <td>3</td>\n",
       "      <td>1;0;0</td>\n",
       "      <td>1;0;0</td>\n",
       "      <td>1;0;0</td>\n",
       "    </tr>\n",
       "    <tr>\n",
       "      <th>3</th>\n",
       "      <td>48</td>\n",
       "      <td>O raka esht avokado</td>\n",
       "      <td>1</td>\n",
       "      <td>0</td>\n",
       "      <td>1</td>\n",
       "      <td>0;1;0;0</td>\n",
       "      <td>0;1;0;0</td>\n",
       "      <td>1;1;0;0</td>\n",
       "    </tr>\n",
       "    <tr>\n",
       "      <th>4</th>\n",
       "      <td>51</td>\n",
       "      <td>Kjo quhet rilindje. Ose koqe rame me shkurt.</td>\n",
       "      <td>1</td>\n",
       "      <td>0</td>\n",
       "      <td>1</td>\n",
       "      <td>0;0;0;0;1;1;0;0</td>\n",
       "      <td>0;0;0;0;1;1;0;0</td>\n",
       "      <td>0;0;0;0;1;1;0;0</td>\n",
       "    </tr>\n",
       "  </tbody>\n",
       "</table>\n",
       "</div>"
      ],
      "text/plain": [
       "   id                                               text  subtask_a  \\\n",
       "0  30                           Kungull o popull kungull          1   \n",
       "1  32  @taku_begaj  ca esht ky vlla 😅😅😅 mua m duket k...          1   \n",
       "2  47                                      Tope me lesh.          1   \n",
       "3  48                                O raka esht avokado          1   \n",
       "4  51       Kjo quhet rilindje. Ose koqe rame me shkurt.          1   \n",
       "\n",
       "   subtask_b  subtask_c               rationales_1               rationales_2  \\\n",
       "0          0          1                    1;0;0;0                    1;0;0;1   \n",
       "1          0          1  0;0;0;0;0;0;0;0;0;0;1;1;0  0;0;0;0;0;0;0;0;0;0;1;1;0   \n",
       "2          1          3                      1;0;0                      1;0;0   \n",
       "3          0          1                    0;1;0;0                    0;1;0;0   \n",
       "4          0          1            0;0;0;0;1;1;0;0            0;0;0;0;1;1;0;0   \n",
       "\n",
       "                rationales_3  \n",
       "0                    1;0;0;1  \n",
       "1  0;0;0;0;0;0;0;0;0;0;1;0;0  \n",
       "2                      1;0;0  \n",
       "3                    1;1;0;0  \n",
       "4            0;0;0;0;1;1;0;0  "
      ]
     },
     "execution_count": 5,
     "metadata": {},
     "output_type": "execute_result"
    }
   ],
   "source": [
    "shaj_dataset.head()"
   ]
  },
  {
   "cell_type": "code",
   "execution_count": 9,
   "metadata": {},
   "outputs": [],
   "source": [
    "shaj_dataset['rationales_1'] = shaj_dataset['rationales_1'].astype(str)\n",
    "shaj_dataset['rationales_2'] = shaj_dataset['rationales_2'].astype(str)\n",
    "shaj_dataset['rationales_3'] = shaj_dataset['rationales_3'].astype(str)"
   ]
  },
  {
   "cell_type": "code",
   "execution_count": 12,
   "metadata": {},
   "outputs": [],
   "source": [
    "final_json = {}\n",
    "\n",
    "for index, row in shaj_dataset.iterrows():\n",
    "    if row['subtask_a'] == 0:\n",
    "        rationales = []\n",
    "    else:\n",
    "        rationales = [\n",
    "            [int(row['rationales_1'])] if ';' not in row['rationales_1'] else [int(x) for x in row['rationales_1'].split(';')],\n",
    "            [int(row['rationales_2'])] if ';' not in row['rationales_2'] else [int(x) for x in row['rationales_2'].split(';')],\n",
    "            [int(row['rationales_3'])] if ';' not in row['rationales_3'] else [int(x) for x in row['rationales_3'].split(';')]\n",
    "        ]\n",
    "\n",
    "    json_obj = {\n",
    "        'post_id': row['id'],\n",
    "        'annotators': [\n",
    "            {'label': 'non-toxic' if row['subtask_a'] == 0 else 'toxic', 'annotator_id': 1, 'target': ['None']},\n",
    "            {'label': 'non-toxic' if row['subtask_a'] == 0 else 'toxic', 'annotator_id': 2, 'target': ['None']},\n",
    "            {'label': 'non-toxic' if row['subtask_a'] == 0 else 'toxic', 'annotator_id': 3, 'target': ['None']},\n",
    "        ],\n",
    "        'rationales': rationales,\n",
    "        'post_tokens': row['text'].split()\n",
    "    }\n",
    "    id_str = str(row['id'])\n",
    "    final_json[id_str] = json_obj"
   ]
  },
  {
   "cell_type": "code",
   "execution_count": 14,
   "metadata": {},
   "outputs": [],
   "source": [
    "with open('dataset_shaj.json', 'w') as f:\n",
    "    json.dump(final_json, f)"
   ]
  }
 ],
 "metadata": {
  "kernelspec": {
   "display_name": ".venv3.7",
   "language": "python",
   "name": "python3"
  },
  "language_info": {
   "codemirror_mode": {
    "name": "ipython",
    "version": 3
   },
   "file_extension": ".py",
   "mimetype": "text/x-python",
   "name": "python",
   "nbconvert_exporter": "python",
   "pygments_lexer": "ipython3",
   "version": "3.7.12"
  },
  "orig_nbformat": 4
 },
 "nbformat": 4,
 "nbformat_minor": 2
}
